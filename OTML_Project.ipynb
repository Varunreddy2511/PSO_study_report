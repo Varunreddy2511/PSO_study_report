{
  "nbformat": 4,
  "nbformat_minor": 0,
  "metadata": {
    "colab": {
      "provenance": []
    },
    "kernelspec": {
      "name": "python3",
      "display_name": "Python 3"
    },
    "language_info": {
      "name": "python"
    }
  },
  "cells": [
    {
      "cell_type": "markdown",
      "source": [
        "Import libraries"
      ],
      "metadata": {
        "id": "Ksq8GvW3CtTP"
      }
    },
    {
      "cell_type": "code",
      "execution_count": 21,
      "metadata": {
        "id": "KnGVbC-YBWLR"
      },
      "outputs": [],
      "source": [
        "import random\n",
        "import numpy as np\n",
        "from matplotlib import pyplot as plt\n",
        "from matplotlib import animation"
      ]
    },
    {
      "cell_type": "markdown",
      "source": [
        "Define fitness function"
      ],
      "metadata": {
        "id": "NrkJGpAVDclH"
      }
    },
    {
      "cell_type": "code",
      "source": [
        "\n",
        "# Fitness function\n",
        "# We assume the problem can be expressed by the following equation: \n",
        "# f(x1,x2)=(x1+2*-x2+3)^2 + (2*x1+x2-8)^2\n",
        "# The objective is to find a minimum which is 0\n",
        "\n",
        "def fitness_function(x1,x2):\n",
        "  f1=x1+2*-x2+3\n",
        "  f2=2*x1+x2-8\n",
        "  z = f1**2+f2**2\n",
        "  return z"
      ],
      "metadata": {
        "id": "e6DYnEP_CymU"
      },
      "execution_count": 22,
      "outputs": []
    },
    {
      "cell_type": "markdown",
      "source": [
        "Update velocity"
      ],
      "metadata": {
        "id": "-BOMb2mEC4WA"
      }
    },
    {
      "cell_type": "code",
      "source": [
        "\n",
        "def update_velocity(particle, velocity, pbest, gbest, w_min=0.5, max=1.0, c=0.1):\n",
        "  # Initialise new velocity array\n",
        "  num_particle = len(particle)\n",
        "  new_velocity = np.array([0.0 for i in range(num_particle)])\n",
        "  # Randomly generate r1, r2 and inertia weight from normal distribution\n",
        "  r1 = random.uniform(0,max)\n",
        "  r2 = random.uniform(0,max)\n",
        "  w = random.uniform(w_min,max)\n",
        "  c1 = c\n",
        "  c2 = c\n",
        "  # Calculate new velocity\n",
        "  for i in range(num_particle):\n",
        "    new_velocity[i] = w*velocity[i] + c1*r1*(pbest[i]-particle[i])+c2*r2*(gbest[i]-particle[i])\n",
        "  return new_velocity"
      ],
      "metadata": {
        "id": "jewuxLBaC7rj"
      },
      "execution_count": 23,
      "outputs": []
    },
    {
      "cell_type": "markdown",
      "source": [
        "Update position"
      ],
      "metadata": {
        "id": "-tjlW7tsDCYt"
      }
    },
    {
      "cell_type": "code",
      "source": [
        "def update_position(particle, velocity):\n",
        "  # Move particles by adding velocity\n",
        "  new_particle = particle + velocity\n",
        "  return new_particle"
      ],
      "metadata": {
        "id": "jHycvZfTC_w5"
      },
      "execution_count": 24,
      "outputs": []
    },
    {
      "cell_type": "markdown",
      "source": [
        "PSO's main function"
      ],
      "metadata": {
        "id": "iRZRoXR1DH_F"
      }
    },
    {
      "cell_type": "code",
      "source": [
        "def pso_2d(population, dimension, position_min, position_max, generation, fitness_criterion):\n",
        "  # Initialisation\n",
        "  # Population\n",
        "  particles = [[random.uniform(position_min, position_max) for j in range(dimension)] for i in range(population)]\n",
        "  # Particle's best position\n",
        "  pbest_position = particles\n",
        "  # Fitness\n",
        "  pbest_fitness = [fitness_function(p[0],p[1]) for p in particles]\n",
        "  # Index of the best particle\n",
        "  gbest_index = np.argmin(pbest_fitness)\n",
        "  # Global best particle position\n",
        "  gbest_position = pbest_position[gbest_index]\n",
        "  # Velocity (starting from 0 speed)\n",
        "  velocity = [[0.0 for j in range(dimension)] for i in range(population)]\n",
        "  \n",
        "  # Loop for the number of generation\n",
        "  for t in range(generation):\n",
        "    # Stop if the average fitness value reached a predefined success criterion\n",
        "    if np.average(pbest_fitness) <= fitness_criterion:\n",
        "      break\n",
        "    else:\n",
        "      for n in range(population):\n",
        "        # Update the velocity of each particle\n",
        "        velocity[n] = update_velocity(particles[n], velocity[n], pbest_position[n], gbest_position)\n",
        "        # Move the particles to new position\n",
        "        particles[n] = update_position(particles[n], velocity[n])\n",
        "    # Calculate the fitness value\n",
        "    pbest_fitness = [fitness_function(p[0],p[1]) for p in particles]\n",
        "    # Find the index of the best particle\n",
        "    gbest_index = np.argmin(pbest_fitness)\n",
        "    # Update the position of the best particle\n",
        "    gbest_position = pbest_position[gbest_index]\n",
        "\n",
        "  # Print the results\n",
        "  print('Global Best Position: ', gbest_position)\n",
        "  print('Best Fitness Value: ', min(pbest_fitness))\n",
        "  print('Average Particle Best Fitness Value: ', np.average(pbest_fitness))\n",
        "  print('Number of Generation: ', t)"
      ],
      "metadata": {
        "id": "OFdE4AZPDLYR"
      },
      "execution_count": 25,
      "outputs": []
    },
    {
      "cell_type": "code",
      "source": [
        "population=int(input('enter population: '))\n",
        "dimension=int(input('enter dimension: '))\n",
        "position_min=int(input('enter position min: '))\n",
        "position_max=int(input('enter position max: '))\n",
        "generation=int(input(\"enter no.of generations: \"))\n",
        "fitness_criterion=float(input(\"enter fitness criterion\"))\n",
        "pso_2d(population,dimension,position_min,position_max,generation,fitness_criterion)"
      ],
      "metadata": {
        "colab": {
          "base_uri": "https://localhost:8080/"
        },
        "id": "rx9IvhhCEaFL",
        "outputId": "e9b49de4-38ba-4bbe-f6eb-7b8654f78c76"
      },
      "execution_count": 26,
      "outputs": [
        {
          "output_type": "stream",
          "name": "stdout",
          "text": [
            "enter population: 100\n",
            "enter dimension: 2\n",
            "enter position min: -100\n",
            "enter position max: 100\n",
            "enter no.of generations: 400\n",
            "enter fitness criterion10e-4\n",
            "Global Best Position:  [2.59999351 2.79995356]\n",
            "Best Fitness Value:  1.0994970790120758e-08\n",
            "Average Particle Best Fitness Value:  0.0008950328751487894\n",
            "Number of Generation:  67\n"
          ]
        }
      ]
    }
  ]
}